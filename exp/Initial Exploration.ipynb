{
 "cells": [
  {
   "cell_type": "markdown",
   "source": [
    "# Intial Exploration"
   ],
   "metadata": {
    "collapsed": false
   },
   "id": "54e7f6f1a7e83e68"
  },
  {
   "cell_type": "code",
   "outputs": [],
   "source": [
    "import pandas as pd"
   ],
   "metadata": {
    "collapsed": false
   },
   "id": "658f82eb4781e93d"
  },
  {
   "cell_type": "code",
   "outputs": [],
   "source": [
    "df = pd.read_csv('data/song_lyrics.csv',engine='python')"
   ],
   "metadata": {
    "collapsed": false,
    "ExecuteTime": {
     "end_time": "2024-08-23T18:15:21.627554Z",
     "start_time": "2024-08-23T18:12:23.745861Z"
    }
   },
   "id": "c4cc6c11ac7639a2",
   "execution_count": 3
  },
  {
   "cell_type": "code",
   "outputs": [
    {
     "data": {
      "text/plain": "        title  tag   artist  year   views                     features  \\\n0   Killa Cam  rap  Cam'ron  2004  173166  {\"Cam\\\\'ron\",\"Opera Steve\"}   \n1  Can I Live  rap    JAY-Z  1996  468624                           {}   \n\n                                              lyrics  id language_cld3  \\\n0  [Chorus: Opera Steve & Cam'ron]\\nKilla Cam, Ki...   1            en   \n1  [Produced by Irv Gotti]\\n\\n[Intro]\\nYeah, hah,...   3            en   \n\n  language_ft language  \n0          en       en  \n1          en       en  ",
      "text/html": "<div>\n<style scoped>\n    .dataframe tbody tr th:only-of-type {\n        vertical-align: middle;\n    }\n\n    .dataframe tbody tr th {\n        vertical-align: top;\n    }\n\n    .dataframe thead th {\n        text-align: right;\n    }\n</style>\n<table border=\"1\" class=\"dataframe\">\n  <thead>\n    <tr style=\"text-align: right;\">\n      <th></th>\n      <th>title</th>\n      <th>tag</th>\n      <th>artist</th>\n      <th>year</th>\n      <th>views</th>\n      <th>features</th>\n      <th>lyrics</th>\n      <th>id</th>\n      <th>language_cld3</th>\n      <th>language_ft</th>\n      <th>language</th>\n    </tr>\n  </thead>\n  <tbody>\n    <tr>\n      <th>0</th>\n      <td>Killa Cam</td>\n      <td>rap</td>\n      <td>Cam'ron</td>\n      <td>2004</td>\n      <td>173166</td>\n      <td>{\"Cam\\\\'ron\",\"Opera Steve\"}</td>\n      <td>[Chorus: Opera Steve &amp; Cam'ron]\\nKilla Cam, Ki...</td>\n      <td>1</td>\n      <td>en</td>\n      <td>en</td>\n      <td>en</td>\n    </tr>\n    <tr>\n      <th>1</th>\n      <td>Can I Live</td>\n      <td>rap</td>\n      <td>JAY-Z</td>\n      <td>1996</td>\n      <td>468624</td>\n      <td>{}</td>\n      <td>[Produced by Irv Gotti]\\n\\n[Intro]\\nYeah, hah,...</td>\n      <td>3</td>\n      <td>en</td>\n      <td>en</td>\n      <td>en</td>\n    </tr>\n  </tbody>\n</table>\n</div>"
     },
     "execution_count": 4,
     "metadata": {},
     "output_type": "execute_result"
    }
   ],
   "source": [
    "df.head(2)"
   ],
   "metadata": {
    "collapsed": false,
    "ExecuteTime": {
     "end_time": "2024-08-23T18:15:39.340048Z",
     "start_time": "2024-08-23T18:15:39.106516Z"
    }
   },
   "id": "e4e370988f10c14d",
   "execution_count": 4
  },
  {
   "cell_type": "code",
   "outputs": [
    {
     "data": {
      "text/plain": "language\nen    3374198\nes     275432\nfr     189436\npt     167947\nru     166044\n       ...   \nmt          5\nuz          4\ntg          3\nbs          1\ngu          1\nName: count, Length: 84, dtype: int64"
     },
     "execution_count": 7,
     "metadata": {},
     "output_type": "execute_result"
    }
   ],
   "source": [
    "df['language'].value_counts()"
   ],
   "metadata": {
    "collapsed": false,
    "ExecuteTime": {
     "end_time": "2024-08-23T18:19:02.835855Z",
     "start_time": "2024-08-23T18:19:02.827031Z"
    }
   },
   "id": "acd432e4092217ee",
   "execution_count": 7
  },
  {
   "cell_type": "code",
   "outputs": [
    {
     "data": {
      "text/plain": "language\nen    3374198\nes     275432\nfr     189436\npt     167947\nru     166044\n       ...   \nmt          5\nuz          4\ntg          3\nbs          1\ngu          1\nName: count, Length: 84, dtype: int64"
     },
     "execution_count": 9,
     "metadata": {},
     "output_type": "execute_result"
    }
   ],
   "source": [
    "df_with_lang= df.dropna(subset=['language'])\n",
    "df_with_lang['language'].value_counts()"
   ],
   "metadata": {
    "collapsed": false,
    "ExecuteTime": {
     "end_time": "2024-08-23T18:25:07.251004Z",
     "start_time": "2024-08-23T18:24:58.630112Z"
    }
   },
   "id": "3daf1085cf000e5c",
   "execution_count": 9
  },
  {
   "cell_type": "code",
   "outputs": [],
   "source": [
    "language_groups = df_with_lang.groupby('language')"
   ],
   "metadata": {
    "collapsed": false,
    "ExecuteTime": {
     "end_time": "2024-08-23T18:27:51.690568Z",
     "start_time": "2024-08-23T18:27:51.682452Z"
    }
   },
   "id": "1371b39ef236440f",
   "execution_count": 10
  },
  {
   "cell_type": "code",
   "outputs": [
    {
     "ename": "AttributeError",
     "evalue": "'DataFrameGroupBy' object has no attribute 'loc'",
     "output_type": "error",
     "traceback": [
      "\u001B[0;31m---------------------------------------------------------------------------\u001B[0m",
      "\u001B[0;31mAttributeError\u001B[0m                            Traceback (most recent call last)",
      "Cell \u001B[0;32mIn[20], line 1\u001B[0m\n\u001B[0;32m----> 1\u001B[0m \u001B[43mlanguage_groups\u001B[49m\u001B[38;5;241;43m.\u001B[39;49m\u001B[43mloc\u001B[49m[\u001B[38;5;124m'\u001B[39m\u001B[38;5;124men\u001B[39m\u001B[38;5;124m'\u001B[39m]\n",
      "File \u001B[0;32m~/miniconda3/envs/music-search/lib/python3.11/site-packages/pandas/core/groupby/groupby.py:1363\u001B[0m, in \u001B[0;36mGroupBy.__getattr__\u001B[0;34m(self, attr)\u001B[0m\n\u001B[1;32m   1360\u001B[0m \u001B[38;5;28;01mif\u001B[39;00m attr \u001B[38;5;129;01min\u001B[39;00m \u001B[38;5;28mself\u001B[39m\u001B[38;5;241m.\u001B[39mobj:\n\u001B[1;32m   1361\u001B[0m     \u001B[38;5;28;01mreturn\u001B[39;00m \u001B[38;5;28mself\u001B[39m[attr]\n\u001B[0;32m-> 1363\u001B[0m \u001B[38;5;28;01mraise\u001B[39;00m \u001B[38;5;167;01mAttributeError\u001B[39;00m(\n\u001B[1;32m   1364\u001B[0m     \u001B[38;5;124mf\u001B[39m\u001B[38;5;124m\"\u001B[39m\u001B[38;5;124m'\u001B[39m\u001B[38;5;132;01m{\u001B[39;00m\u001B[38;5;28mtype\u001B[39m(\u001B[38;5;28mself\u001B[39m)\u001B[38;5;241m.\u001B[39m\u001B[38;5;18m__name__\u001B[39m\u001B[38;5;132;01m}\u001B[39;00m\u001B[38;5;124m'\u001B[39m\u001B[38;5;124m object has no attribute \u001B[39m\u001B[38;5;124m'\u001B[39m\u001B[38;5;132;01m{\u001B[39;00mattr\u001B[38;5;132;01m}\u001B[39;00m\u001B[38;5;124m'\u001B[39m\u001B[38;5;124m\"\u001B[39m\n\u001B[1;32m   1365\u001B[0m )\n",
      "\u001B[0;31mAttributeError\u001B[0m: 'DataFrameGroupBy' object has no attribute 'loc'"
     ]
    }
   ],
   "source": [
    "language_groups.loc['en']"
   ],
   "metadata": {
    "collapsed": false,
    "ExecuteTime": {
     "end_time": "2024-08-23T18:30:24.011643Z",
     "start_time": "2024-08-23T18:30:23.767562Z"
    }
   },
   "id": "7f04d13c274e7caa",
   "execution_count": 20
  },
  {
   "cell_type": "code",
   "outputs": [
    {
     "name": "stderr",
     "output_type": "stream",
     "text": [
      "/var/folders/xg/p3tfmjls2gv28bm56bg7kd340000gp/T/ipykernel_13957/709465829.py:1: UserWarning: Boolean Series key will be reindexed to match DataFrame index.\n",
      "  english_group = df_with_lang[df['language'] == 'en']\n"
     ]
    }
   ],
   "source": [
    "english_group = df_with_lang[df['language'] == 'en']"
   ],
   "metadata": {
    "collapsed": false,
    "ExecuteTime": {
     "end_time": "2024-08-23T18:32:19.128183Z",
     "start_time": "2024-08-23T18:32:16.873144Z"
    }
   },
   "id": "ffc36fc69355002",
   "execution_count": 24
  },
  {
   "cell_type": "code",
   "outputs": [
    {
     "data": {
      "text/plain": "                             title      tag                    artist  year  \\\n0                        Killa Cam      rap                   Cam'ron  2004   \n1                       Can I Live      rap                     JAY-Z  1996   \n2                Forgive Me Father      rap                  Fabolous  2003   \n3                     Down and Out      rap                   Cam'ron  2004   \n4                           Fly In      rap                 Lil Wayne  2005   \n...                            ...      ...                       ...   ...   \n5134847  Everything Is Alright Now      pop             Chuck Bernard  2013   \n5134849                 White Lies      pop                  ElementD  2019   \n5134851                      Ocean      pop                   Effemar  2022   \n5134853            Raise Our Hands      pop  Culture Code, Pag & Mylo  2016   \n5134855                 New Number  country         Alana Springsteen  2022   \n\n          views                                      features  \\\n0        173166                   {\"Cam\\\\'ron\",\"Opera Steve\"}   \n1        468624                                            {}   \n2          4743                                            {}   \n3        144404  {\"Cam\\\\'ron\",\"Kanye West\",\"Syleena Johnson\"}   \n4         78271                                            {}   \n...         ...                                           ...   \n5134847       2                                            {}   \n5134849       1                               {\"Harley Bird\"}   \n5134851       3                                            {}   \n5134853       3            {Elex,\"Culture Code / Pag & Mylo\"}   \n5134855       1                                            {}   \n\n                                                    lyrics       id  \\\n0        [Chorus: Opera Steve & Cam'ron]\\nKilla Cam, Ki...        1   \n1        [Produced by Irv Gotti]\\n\\n[Intro]\\nYeah, hah,...        3   \n2        Maybe cause I'm eatin\\nAnd these bastards fien...        4   \n3        [Produced by Kanye West and Brian Miller]\\n\\n[...        5   \n4        [Intro]\\nSo they ask me\\n\"Young boy\\nWhat you ...        6   \n...                                                    ...      ...   \n5134847  Everything is alright now\\nOh yes, baby\\nEvery...  7882838   \n5134849  [Verse 1]\\nHalf truth and half you\\nDidn't we ...  7882840   \n5134851  [Verse 1]\\nDance for me now\\nKeeping yourself ...  7882842   \n5134853  [Verse 1]\\nHere our purpose feels alive\\nWe ar...  7882845   \n5134855  [Verse 1]\\nYou need a new number, one that ain...  7882848   \n\n        language_cld3 language_ft language  \n0                  en          en       en  \n1                  en          en       en  \n2                  en          en       en  \n3                  en          en       en  \n4                  en          en       en  \n...               ...         ...      ...  \n5134847            en          en       en  \n5134849            en          en       en  \n5134851            en          en       en  \n5134853            en          en       en  \n5134855            en          en       en  \n\n[3374198 rows x 11 columns]",
      "text/html": "<div>\n<style scoped>\n    .dataframe tbody tr th:only-of-type {\n        vertical-align: middle;\n    }\n\n    .dataframe tbody tr th {\n        vertical-align: top;\n    }\n\n    .dataframe thead th {\n        text-align: right;\n    }\n</style>\n<table border=\"1\" class=\"dataframe\">\n  <thead>\n    <tr style=\"text-align: right;\">\n      <th></th>\n      <th>title</th>\n      <th>tag</th>\n      <th>artist</th>\n      <th>year</th>\n      <th>views</th>\n      <th>features</th>\n      <th>lyrics</th>\n      <th>id</th>\n      <th>language_cld3</th>\n      <th>language_ft</th>\n      <th>language</th>\n    </tr>\n  </thead>\n  <tbody>\n    <tr>\n      <th>0</th>\n      <td>Killa Cam</td>\n      <td>rap</td>\n      <td>Cam'ron</td>\n      <td>2004</td>\n      <td>173166</td>\n      <td>{\"Cam\\\\'ron\",\"Opera Steve\"}</td>\n      <td>[Chorus: Opera Steve &amp; Cam'ron]\\nKilla Cam, Ki...</td>\n      <td>1</td>\n      <td>en</td>\n      <td>en</td>\n      <td>en</td>\n    </tr>\n    <tr>\n      <th>1</th>\n      <td>Can I Live</td>\n      <td>rap</td>\n      <td>JAY-Z</td>\n      <td>1996</td>\n      <td>468624</td>\n      <td>{}</td>\n      <td>[Produced by Irv Gotti]\\n\\n[Intro]\\nYeah, hah,...</td>\n      <td>3</td>\n      <td>en</td>\n      <td>en</td>\n      <td>en</td>\n    </tr>\n    <tr>\n      <th>2</th>\n      <td>Forgive Me Father</td>\n      <td>rap</td>\n      <td>Fabolous</td>\n      <td>2003</td>\n      <td>4743</td>\n      <td>{}</td>\n      <td>Maybe cause I'm eatin\\nAnd these bastards fien...</td>\n      <td>4</td>\n      <td>en</td>\n      <td>en</td>\n      <td>en</td>\n    </tr>\n    <tr>\n      <th>3</th>\n      <td>Down and Out</td>\n      <td>rap</td>\n      <td>Cam'ron</td>\n      <td>2004</td>\n      <td>144404</td>\n      <td>{\"Cam\\\\'ron\",\"Kanye West\",\"Syleena Johnson\"}</td>\n      <td>[Produced by Kanye West and Brian Miller]\\n\\n[...</td>\n      <td>5</td>\n      <td>en</td>\n      <td>en</td>\n      <td>en</td>\n    </tr>\n    <tr>\n      <th>4</th>\n      <td>Fly In</td>\n      <td>rap</td>\n      <td>Lil Wayne</td>\n      <td>2005</td>\n      <td>78271</td>\n      <td>{}</td>\n      <td>[Intro]\\nSo they ask me\\n\"Young boy\\nWhat you ...</td>\n      <td>6</td>\n      <td>en</td>\n      <td>en</td>\n      <td>en</td>\n    </tr>\n    <tr>\n      <th>...</th>\n      <td>...</td>\n      <td>...</td>\n      <td>...</td>\n      <td>...</td>\n      <td>...</td>\n      <td>...</td>\n      <td>...</td>\n      <td>...</td>\n      <td>...</td>\n      <td>...</td>\n      <td>...</td>\n    </tr>\n    <tr>\n      <th>5134847</th>\n      <td>Everything Is Alright Now</td>\n      <td>pop</td>\n      <td>Chuck Bernard</td>\n      <td>2013</td>\n      <td>2</td>\n      <td>{}</td>\n      <td>Everything is alright now\\nOh yes, baby\\nEvery...</td>\n      <td>7882838</td>\n      <td>en</td>\n      <td>en</td>\n      <td>en</td>\n    </tr>\n    <tr>\n      <th>5134849</th>\n      <td>White Lies</td>\n      <td>pop</td>\n      <td>ElementD</td>\n      <td>2019</td>\n      <td>1</td>\n      <td>{\"Harley Bird\"}</td>\n      <td>[Verse 1]\\nHalf truth and half you\\nDidn't we ...</td>\n      <td>7882840</td>\n      <td>en</td>\n      <td>en</td>\n      <td>en</td>\n    </tr>\n    <tr>\n      <th>5134851</th>\n      <td>Ocean</td>\n      <td>pop</td>\n      <td>Effemar</td>\n      <td>2022</td>\n      <td>3</td>\n      <td>{}</td>\n      <td>[Verse 1]\\nDance for me now\\nKeeping yourself ...</td>\n      <td>7882842</td>\n      <td>en</td>\n      <td>en</td>\n      <td>en</td>\n    </tr>\n    <tr>\n      <th>5134853</th>\n      <td>Raise Our Hands</td>\n      <td>pop</td>\n      <td>Culture Code, Pag &amp; Mylo</td>\n      <td>2016</td>\n      <td>3</td>\n      <td>{Elex,\"Culture Code / Pag &amp; Mylo\"}</td>\n      <td>[Verse 1]\\nHere our purpose feels alive\\nWe ar...</td>\n      <td>7882845</td>\n      <td>en</td>\n      <td>en</td>\n      <td>en</td>\n    </tr>\n    <tr>\n      <th>5134855</th>\n      <td>New Number</td>\n      <td>country</td>\n      <td>Alana Springsteen</td>\n      <td>2022</td>\n      <td>1</td>\n      <td>{}</td>\n      <td>[Verse 1]\\nYou need a new number, one that ain...</td>\n      <td>7882848</td>\n      <td>en</td>\n      <td>en</td>\n      <td>en</td>\n    </tr>\n  </tbody>\n</table>\n<p>3374198 rows × 11 columns</p>\n</div>"
     },
     "execution_count": 25,
     "metadata": {},
     "output_type": "execute_result"
    }
   ],
   "source": [
    "english_group"
   ],
   "metadata": {
    "collapsed": false,
    "ExecuteTime": {
     "end_time": "2024-08-23T18:32:20.497206Z",
     "start_time": "2024-08-23T18:32:20.491353Z"
    }
   },
   "id": "6ac61cdd87f60b9a",
   "execution_count": 25
  },
  {
   "cell_type": "code",
   "outputs": [],
   "source": [],
   "metadata": {
    "collapsed": false
   },
   "id": "b3855ef5a3dfe592"
  }
 ],
 "metadata": {
  "kernelspec": {
   "name": "python3",
   "language": "python",
   "display_name": "Python 3 (ipykernel)"
  }
 },
 "nbformat": 4,
 "nbformat_minor": 5
}
